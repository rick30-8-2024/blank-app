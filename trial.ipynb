{
 "cells": [
  {
   "cell_type": "code",
   "execution_count": 2,
   "metadata": {},
   "outputs": [
    {
     "name": "stdout",
     "output_type": "stream",
     "text": [
      "when was gpt 40 released and which company released it?\n"
     ]
    },
    {
     "name": "stdout",
     "output_type": "stream",
     "text": [
      "[{'title': 'GPT-4o', 'description': 'GPT-4o (\"o\" for \"omni\") is a multilingual, multimodal generative pre-trained transformer developed by OpenAI and released inMay 2024.', 'url': 'https://en.wikipedia.org/wiki/GPT-4o'}, {'title': 'Hello GPT-4o', 'description': \"May 13, 2024—We're announcing GPT-4 Omni, our new flagship model which can reason across audio, vision, and text in real time.\", 'url': 'https://openai.com/index/hello-gpt-4o/'}, {'title': 'GPT-4o explained: Everything you need to know', 'description': \"Jul 19, 2024—OpenAI announced GPT-4 Omni (GPT-4o) as the company's new flagship multimodal language model onMay 13, 2024, during the company's Spring\\xa0...\", 'url': 'https://www.techtarget.com/whatis/feature/GPT-4o-explained-Everything-you-need-to-know'}, {'title': 'OpenAI unveils newest AI model, GPT-4o', 'description': 'May 13, 2024—OpenAI on Monday announced its latest artificial intelligence large language model that it says will make ChatGPT smarter and easier to use.', 'url': 'https://www.cnn.com/2024/05/13/tech/openai-altman-new-ai-model-gpt-4o/index.html'}, {'title': \"OpenAI releases GPT-4o, a faster model that's free for all ...\", 'description': 'May 13, 2024—OpenAI is launching GPT-4o, an iteration of the GPT-4 model that powers its hallmark product, ChatGPT. The updated model is much faster and improves\\xa0...', 'url': 'https://www.theverge.com/2024/5/13/24155493/openai-gpt-4o-launching-free-for-all-chatgpt-users'}, {'title': 'GPT-4o Guide: How it Works, Use Cases, Pricing ...', 'description': 'OpenAI announced its latest large language model, GPT-4o, the successor to GPT-4 Turbo. Read on to discover its capabilities, performance, and how you might\\xa0...', 'url': 'https://www.datacamp.com/blog/what-is-gpt-4o'}, {'title': 'GPT-4', 'description': \"It was launched onMarch 14, 2023, and made publicly available via the paid chatbot product ChatGPT Plus, via OpenAI's API, and via the free chatbot Microsoft\\xa0...\", 'url': 'https://en.wikipedia.org/wiki/GPT-4'}, {'title': 'OpenAI launches new AI model, GPT-4o and ChatGPT for ...', 'description': 'May 13, 2024—OpenAI on Monday introduced a new AI model and a desktop version of ChatGPT, its popular chatbot. The new model is called GPT-4o.', 'url': 'https://www.cnbc.com/2024/05/13/openai-launches-new-ai-model-and-desktop-version-of-chatgpt.html'}, {'title': \"Introducing GPT-4o: OpenAI's new flagship multimodal ...\", 'description': 'May 13, 2024—OpenAI, in partnership with Microsoft, announces GPT-4o, a groundbreaking multimodal model for text, vision, and audio capabilities.', 'url': 'https://azure.microsoft.com/en-us/blog/introducing-gpt-4o-openais-new-flagship-multimodal-model-now-in-preview-on-azure/'}, {'title': \"With OpenAI's Release of GPT-4o, Is ChatGPT Plus Still ...\", 'description': 'May 13, 2024—On Monday, OpenAI launched a new model for ChatGPT that can process text, audio, and images. In a surprising turn, the company announced that\\xa0...', 'url': 'https://www.wired.com/story/with-gpt-4o-is-chatgpt-plus-still-worth-it/'}, {'title': 'OpenAI releases GPT-4o: 12 things you need to know', 'description': 'May 13, 2024—On May 13th, OpenAI introducedGPT-4o, generating buzz and questions about its impact on the existingChatGPTPlus service. This article breaks\\xa0...', 'url': 'https://www.youreverydayai.com/openai-releases-gpt-4o-12-things-you-need-to-know/'}, {'title': 'Timeline for GPT-4o Releases : r/ChatGPT', 'description': '645 votes, 194 comments. Here are the timelines for theGPT-4o featurereleasesaccording to their website and Spring Update.', 'url': 'https://www.reddit.com/r/ChatGPT/comments/1crx0ee/timeline_for_gpt4o_releases/'}, {'title': 'OpenAI Releases GPT-4o Mini, a Cheaper Version of ...', 'description': 'Jul 18, 2024—TheChatGPTmaker on Thursdayannounced GPT-4o mini, a smaller, cheaper variation of its most capable AI model,GPT-4o. The San Francisco-based\\xa0...', 'url': 'https://www.bloomberg.com/news/articles/2024-07-18/openai-releases-gpt-4o-mini-a-cheaper-version-of-flagship-ai-model'}, {'title': \"ChatGPT maker OpenAI announces new 'flagship' model\", 'description': \"May 13, 2024—The Microsoft-backedcompanyintroduced its newGPT-40model during ... OpenAI's popularChatGPTwaslaunchedin Nov. 2022, and quickly\\xa0...\", 'url': 'https://www.foxbusiness.com/technology/chatgpt-maker-openai-announces-new-flagship-model'}]\n",
      "{'status': 'success', 'answer': 'GPT-4o was released on May 13, 2024, by OpenAI.', 'urls': []} <class 'dict'>\n",
      "url_answer GPT-4o was released on May 13, 2024, by OpenAI.\n"
     ]
    },
    {
     "data": {
      "text/plain": [
       "'GPT-4o was released on May 13, 2024, by OpenAI.'"
      ]
     },
     "execution_count": 2,
     "metadata": {},
     "output_type": "execute_result"
    }
   ],
   "source": [
    "from Organizer import Organizer\n",
    "\n",
    "\n",
    "Researcher = Organizer()\n",
    "\n",
    "data = await Researcher.search(\"when was gpt 40 released and which company released it?\")\n",
    "\n",
    "data"
   ]
  },
  {
   "cell_type": "code",
   "execution_count": 2,
   "metadata": {},
   "outputs": [
    {
     "name": "stdout",
     "output_type": "stream",
     "text": [
      "**Research about Elon Musk**\n",
      "==========================\n",
      "\n",
      "**Early Life and Education**\n",
      "---------------------------\n",
      "\n",
      "* Born on June 28, 1971, in Pretoria, South Africa\n",
      "* Moved to Canada in 1992 and later to the US in 1997\n",
      "* Graduated from the University of Pennsylvania with a degree in economics and physics\n",
      "* Diagnosed with Asperger's syndrome and ADHD\n",
      "\n",
      "**Career**\n",
      "----------\n",
      "\n",
      "* Co-founded Zip2, X.com (later PayPal), SpaceX, Tesla, Inc., Neuralink, and The Boring Company\n",
      "* CEO and CTO of SpaceX and Tesla, Inc.\n",
      "* Partner at X Corp. and Twitter, Inc.\n",
      "* Has been involved in various controversies, including his tweets about COVID-19 and his support for Donald Trump\n",
      "\n",
      "**Business Ventures**\n",
      "--------------------\n",
      "\n",
      "* Co-founded PayPal, which was sold to eBay for $1.5 billion\n",
      "* Founded SpaceX, which has developed reusable rockets and is working towards establishing a human settlement on Mars\n",
      "* Founded Tesla, which has become one of the leading electric vehicle manufacturers in the world\n",
      "* Founded Neuralink, which is developing brain-machine interfaces\n",
      "* Founded The Boring Company, which is working on high-speed transportation systems\n",
      "\n",
      "**Awards and Recognition**\n",
      "-------------------------\n",
      "\n",
      "* Time Person of the Year (2021)\n",
      "* Fortune's Businessperson of the Year (2021)\n",
      "* Recipient of the National Academy of Engineering's Draper Prize (2022)\n",
      "* Recipient of the Royal Society's Honorary Fellowship (2018)\n",
      "\n",
      "**Personal Life**\n",
      "----------------\n",
      "\n",
      "* Married three times and has seven children\n",
      "* Has been open about his struggles with depression and anxiety\n",
      "* Has been involved in various controversies related to his children and personal life\n",
      "\n",
      "**Philanthropy**\n",
      "----------------\n",
      "\n",
      "* Has pledged to give away the majority of his wealth to charitable causes\n",
      "* Has donated to various causes, including the XPRIZE Foundation and the Musk Foundation\n",
      "* Founded the Musk Foundation in 2001 to support scientific research, education, and renewable energy\n",
      "\n",
      "**Controversies**\n",
      "-----------------\n",
      "\n",
      "* Has been sued multiple times for defamation and libel\n",
      "* Has been accused of sexual harassment and misconduct by several women\n",
      "* Has been involved in several high-profile feuds with other celebrities and business leaders\n",
      "* Has been criticized for his handling of Twitter and his leadership style\n",
      "\n",
      "**Research and Interests**\n",
      "-------------------------\n",
      "\n",
      "* Artificial intelligence and machine learning\n",
      "* Space exploration and colonization\n",
      "* Sustainable energy and transportation\n",
      "* Neuralink and brain-machine interfaces\n",
      "* The Boring Company and tunnel construction\n",
      "\n",
      "**Publications and Books**\n",
      "-------------------------\n",
      "\n",
      "* \"Elon Musk: Tesla, SpaceX, and the Quest for a Fantastic Future\" by Ashlee Vance (2015)\n",
      "* \"Liftoff: Elon Musk and the Quest for a Fantastic Future\" by Eric Berger (2021)\n",
      "* \"Elon Musk\" by Walter Isaacson (2023)\n",
      "\n",
      "**Media and Appearances**\n",
      "-------------------------\n",
      "\n",
      "* Featured in various documentaries and TV shows, including \"The Musk Who Fell to Earth\" and \"Return to Space\"\n",
      "* Has been interviewed by various media outlets, including CNN, CNBC, and The New York Times\n"
     ]
    }
   ],
   "source": [
    "print(data)"
   ]
  },
  {
   "cell_type": "code",
   "execution_count": 3,
   "metadata": {},
   "outputs": [
    {
     "data": {
      "text/plain": [
       "{'status': 'success', 'answer': 'Cybercab', 'urls': None}"
      ]
     },
     "execution_count": 3,
     "metadata": {},
     "output_type": "execute_result"
    }
   ],
   "source": [
    "import json\n",
    "\n",
    "json.loads('{\"status\":\"success\", \"answer\": \"Cybercab\", \"urls\":null}')\n"
   ]
  },
  {
   "cell_type": "markdown",
   "metadata": {},
   "source": [
    "**Research about Elon Musk**\n",
    "==========================\n",
    "\n",
    "**Early Life and Education**\n",
    "---------------------------\n",
    "\n",
    "* Born on June 28, 1971, in Pretoria, South Africa\n",
    "* Moved to Canada in 1992 and later to the US in 1997\n",
    "* Graduated from the University of Pennsylvania with a degree in economics and physics\n",
    "* Diagnosed with Asperger's syndrome and ADHD\n",
    "\n",
    "**Career**\n",
    "----------\n",
    "\n",
    "* Co-founded Zip2, X.com (later PayPal), SpaceX, Tesla, Inc., Neuralink, and The Boring Company\n",
    "* CEO and CTO of SpaceX and Tesla, Inc.\n",
    "* Partner at X Corp. and Twitter, Inc.\n",
    "* Has been involved in various controversies, including his tweets about COVID-19 and his support for Donald Trump\n",
    "\n",
    "**Business Ventures**\n",
    "--------------------\n",
    "\n",
    "* Co-founded PayPal, which was sold to eBay for $1.5 billion\n",
    "* Founded SpaceX, which has developed reusable rockets and is working towards establishing a human settlement on Mars\n",
    "* Founded Tesla, which has become one of the leading electric vehicle manufacturers in the world\n",
    "* Founded Neuralink, which is developing brain-machine interfaces\n",
    "* Founded The Boring Company, which is working on high-speed transportation systems\n",
    "\n",
    "**Awards and Recognition**\n",
    "-------------------------\n",
    "\n",
    "* Time Person of the Year (2021)\n",
    "* Fortune's Businessperson of the Year (2021)\n",
    "* Recipient of the National Academy of Engineering's Draper Prize (2022)\n",
    "* Recipient of the Royal Society's Honorary Fellowship (2018)\n",
    "\n",
    "**Personal Life**\n",
    "----------------\n",
    "\n",
    "* Married three times and has seven children\n",
    "* Has been open about his struggles with depression and anxiety\n",
    "* Has been involved in various controversies related to his children and personal life\n",
    "\n",
    "**Philanthropy**\n",
    "----------------\n",
    "\n",
    "* Has pledged to give away the majority of his wealth to charitable causes\n",
    "* Has donated to various causes, including the XPRIZE Foundation and the Musk Foundation\n",
    "* Founded the Musk Foundation in 2001 to support scientific research, education, and renewable energy\n",
    "\n",
    "**Controversies**\n",
    "-----------------\n",
    "\n",
    "* Has been sued multiple times for defamation and libel\n",
    "* Has been accused of sexual harassment and misconduct by several women\n",
    "* Has been involved in several high-profile feuds with other celebrities and business leaders\n",
    "* Has been criticized for his handling of Twitter and his leadership style\n",
    "\n",
    "**Research and Interests**\n",
    "-------------------------\n",
    "\n",
    "* Artificial intelligence and machine learning\n",
    "* Space exploration and colonization\n",
    "* Sustainable energy and transportation\n",
    "* Neuralink and brain-machine interfaces\n",
    "* The Boring Company and tunnel construction\n",
    "\n",
    "**Publications and Books**\n",
    "-------------------------\n",
    "\n",
    "* \"Elon Musk: Tesla, SpaceX, and the Quest for a Fantastic Future\" by Ashlee Vance (2015)\n",
    "* \"Liftoff: Elon Musk and the Quest for a Fantastic Future\" by Eric Berger (2021)\n",
    "* \"Elon Musk\" by Walter Isaacson (2023)\n",
    "\n",
    "**Media and Appearances**\n",
    "-------------------------\n",
    "\n",
    "* Featured in various documentaries and TV shows, including \"The Musk Who Fell to Earth\" and \"Return to Space\"\n",
    "* Has been interviewed by various media outlets, including CNN, CNBC, and The New York Times\n"
   ]
  },
  {
   "cell_type": "code",
   "execution_count": 21,
   "metadata": {},
   "outputs": [],
   "source": [
    "import re\n",
    "def split_corpus(corpus, max_words=4000):\n",
    "    \n",
    "    \n",
    "    corpus = corpus.replace('\\n',' ')\n",
    "    while \"  \" in corpus:\n",
    "        corpus = corpus.replace(\"  \", ' ')\n",
    "    words = corpus.split()\n",
    "    all_splits = []\n",
    "    \n",
    "    # Iterate over the words and split them into chunks of max_words\n",
    "    for i in range(0, len(words), max_words):\n",
    "        all_splits.append(\" \".join(words[i:i + max_words]))\n",
    "    \n",
    "    return all_splits\n",
    "\n",
    "x = split_corpus(data)"
   ]
  },
  {
   "cell_type": "code",
   "execution_count": 24,
   "metadata": {},
   "outputs": [
    {
     "data": {
      "text/plain": [
       "3529"
      ]
     },
     "execution_count": 24,
     "metadata": {},
     "output_type": "execute_result"
    }
   ],
   "source": [
    "len(x[0].split())"
   ]
  },
  {
   "cell_type": "code",
   "execution_count": 25,
   "metadata": {},
   "outputs": [
    {
     "data": {
      "text/plain": [
       "'Here are the extracted and summarized information related to \"All colors of sunflowers\" in bullet format: * **Colors of Sunflowers:** + Cream + Gold + Yellow + Orange + Red + Mahogany + Chocolate brown + Pink (note: there are no blue sunflowers in nature) * **Varieties of Sunflowers:** + \\'Shock-O-Lat\\' (deep, dark brown with golden tips) + \\'Coconut Ice\\' (creamy vanilla-white with black centers) + \\'Prado Red Shades\\' (chocolate-tinted centers with red petals) * **Characteristics:** + Easy to grow from seeds + Great for bees and other pollinators + Can be grown in tall or tiny varieties + Can be used in vases and bouquets + Can be used as a fun project for kids * **Tips:** + Plant seeds 6 inches deep for giant sunflowers + Pinch stems when 5 sets of leaves have formed for more flowers + Choose from a variety of colors and sizes to suit your needs Here are the extracted and summarized information related to \"All colors of sunflowers\" in bullet format within 200 words: **Colors of Sunflowers:** * Cream to gold * Yellow * Orange * Red * Mahogany * Chocolate brown * Pink * Deep, dark red (considered purple by some gardeners) * No blue sunflowers in nature **Specific Sunflower Varieties:** * \\'Shock-O-Lat\\': deep, dark brown color with golden tips, 6 feet tall * \\'Coconut Ice\\': creamy vanilla-white petals with black centers, 4-5 feet tall * \\'Prado Red Shades\\': chocolate-tinted centers with red petals, 4 feet tall * ProCut Bravo: intense orange color petals on an upright flower * Lemon Cutie: Fleuroselect Gold Medal winner with lemon-colored petals * Lemon Pixie: new dwarf sunflower with lemon-colored petals * ProCut Orange Excel: deep orange color * ProCut White Nite: white petals with green centers * ProCut Peach: peach-colored petals * SunFill Purple and SunFill Green: colorful buds for use as fillers in flower arrangements Here are the extracted and summarized information related to \"All colors of sunflowers\" in bullet format within 200 words: * **Total Colors:** 57 * **Color Categories:** + Cream White Sunflowers: 3 + Lemon Sunflowers: 6 + Lime White Sunflowers: 0 + Orange Sunflowers: 15 + Peach Sunflowers: 3 + Red Sunflowers: 8 + Red Lemon Sunflowers: 4 + Red Orange Sunflowers: 5 + Red Yellow Sunflowers: 1 + Rust Sunflowers: 1 + Yellow Sunflowers: 10 * **ProCut Series:** 18 * **SunFill Series:** 2 * **Double Petal Sunflowers:** 8 * **Good for Bouquet Sunflowers:** 41 * **Unique Color Sunflowers:** 25 * **Branching Stem Sunflowers:** 35 * **Single Stem Sunflowers:** 22 * **Garden Giants Sunflowers:** 2 * **Short for Pots & Plugs Sunflowers:** 11 * **Bedding Sunflowers:** 11 * **Hedges Sunflowers:** 13 * **Mixtures Sunflowers:** 2 * **Snack Sunflower:** 1 * **Birdseed Sunflowers:** 1 Here are the different colors of sunflowers extracted and summarized in bullet format: * **Red Sunflowers:** + Moulin Rouge: bright red flower with a black center + Red Sun Splash: bold, red variety with various-sized petals + Red Sunbeam: similar to classic yellow, but with bold red petals and a deep red center + Little Becka: bright red, pollen-less sunflower with yellow tips and a rich, dark center * **Orange Sunflowers:** + Orange Hobbit: dwarf sunflower with a vivid, yellow/orange head + Orange Sunbeam: resembles classic Sunbeam, but with a more yellow/orange color in the center + Orange Sunflower: bi-color or with both yellow and orange on one petal + Mahogany: bi-color petals of dark mahogany brown with yellow tips or a solid, orange brown bloom * **Yellow Sunflowers:** + Sunbeam: large, roughly 6-inch diameter, flower head with a pale green center + Kong: one of the tallest varieties, with a head up to 40 inches in diameter + Golden Cheer: double petals of thin, bright yellow to create a fluffy and bushy appearance + Sungold: unique-looking sunflower with a bushy head made up of hundreds of tiny petals * **Green Sunflowers:** + Green Sunflower: bright green center, usually surrounded by yellow petals + Green Sunbeam: large, lime-green center, surrounded by short yellow petals * **Bi-Color Sunflowers:** + Firecracker: petals shade from red to yellow as they move out toward the tip + Ring of Fire: short red and yellow petals that form “rings” around the middle + The Joker: double-petaled, bi-color sunflower with a dark red center and yellow petal tips + Zohar: bi-color petals of orange and yellow surrounding a deep brown center * **Other colors: + Chocolate Sunflowers: rich brown or reddish/brown color to their petals + Peach Passion: pale, pastel-colored sunflower with a double layer of petals surrounding a pale yellow center + Velvet Queen: long, sparse petals of a dark reddish brown surrounding a dark brown center Here\\'s a summary of the different colors of sunflowers: * **Yellow Sunflowers:** + Sunbeam: large, roughly 6-inch diameter, flower head with a pale green center surrounded by short, bright yellow petals + Golden Cheer: double petals of thin, bright yellow to create a flower head that appears fluffy and bushy in appearance + Kong: one of the tallest varieties, bright yellow sunflower that can have a head up to 40 inches in diameter + Soraya: very strong, classic-looking sunflower with wide, bright yellow petals surrounding a dark brown center * **Orange Sunflowers:** + Orange Hobbit: dwarf sunflower with a vivid, yellow/orange head + Orange Sunbeam: resembles the classic Sunbeam in size and shape, but has a more yellow/orange color in the center, with darker colored petals + Orange Sunflower: vivid orange hue, including those that are bi-color or that contain both yellow and orange on one petal + Zohar: classic-looking sunflower that grows to about 4 feet tall, bi-color petals of orange and yellow surrounding a deep brown center * **Red Sunflowers:** + Moulin Rouge: bright red flower with a black center, reaching approximately 4 inches in diameter + Red Sun Splash: bold, red variety of various-sized petals surrounding a small, dark red interior + Red Sunbeam: similar to the classic yellow in size and shape, but features bold red petals streaked with yellow as well as a deep red center + Ring of Fire: bi-color sunflower with a very broad, dark brown center, short red and yellow petals that form “rings” around the middle * **Green Sunflowers:** + Green Sunflower: bright green center, usually surrounded by yellow petals + Green Sunbeam: large, lime-green center, surrounded by short yellow petals * **Bi-Color Sunflowers:** + Firecracker: bi-color sunflower with petals that shade from red to yellow as they move out toward the tip + Little Becka: dwarf sunflower with bi-color petals, bright red, pollen-less sunflower with yellow tips and a rich, dark center + The Joker: double-petaled, bi-color sunflower with a dark red center and yellow petal tips * **Other Colors:** + Chocolate Sunflower: rich brown or reddish/brown color to their petals + Peach Passion: pale, pastel-colored sunflower with a double layer of petals surrounding a pale yellow center + Mahogany: member of the orange sunflower group, ranges from bi-color petals of dark mahogany brown with yellow tips to a solid, orange brown bloom with a dark center Here\\'s a summary of the information related to \"All colors of sunflowers\" in bullet format within 200 words: **Colors of Sunflowers:** * **Yellow:** Sunbeam, Sun Splash, Sunny Smile, Sungold, Teddy Bear, Kong, Golden Cheer, Gold Sunflower, and others * **Red:** Red Sun Splash, Red Sunbeam, Ring of Fire, Moulin Rouge, Little Becka, and others * **Orange:** Orange Hobbit, Orange Sunbeam, Orange Sunflower, Mahogany, and others * **Bi-color:** Firecracker, Joker, Soraya, Zohar, and others (with combinations of yellow, red, orange, and brown) * **Brown:** Velvet Queen, Mammoth Russian, and others * **Green:** Green Sunflower, Green Sunbeam, and others * **Purple/Pink:** Not mentioned in the text * **Multi-colored:** Autumn Beauty, Peach Passion, and others (with combinations of yellow, red, orange, and brown) **Unique Features:** * Some sunflowers have a fuzzy or pom-pom-like appearance (Teddy Bear) * Some sunflowers have a bushy or double-petaled appearance (Sungold, Golden Cheer) * Some sunflowers have a small or very large center (Sun Splash, Giganteus) * Some sunflowers have multiple blooms per stalk (Soraya, Mammoth Russian) Here are the extracted and summarized information related to \"All colors of sunflowers\" in bullet format within 200 words: * **Colors of Sunflowers:** + ProCut Peach Sunflower Seeds: Large pastel peach flowers + Starburst Lemon Eclair Sunflower Seeds: Quilled lemon yellow petals with dark centers + High Hopes Sunflower Seeds: Giant yellow flower heads + Smiley Sunflower Seeds: Adorable dwarf yellow sunflower with a dark central disc + Big Smile Sunflower Seeds: Cheerful dwarf sunflowers with large, dark-centered gold blooms + ProCut Red Lemon Bicolor Sunflower Seeds: Two-tone lemon yellow and deep red petals + SunFill Purple Sunflower Seeds: A brand new type of sunflower with purple flowers + ProCut White Lite Sunflower Seeds: Soft white petals with a hint of cream surround light yellow faces + Ruby Eclipse Sunflower Seeds: Ruby red and cream bicolor flowers + SunFill Green Sunflower Seeds: An entirely new sunflower with green flowers + ProCut Horizon Sunflower Seeds: Large, upward-facing flowers in rich golden orange + Terracotta Sunflower Seeds: Warm fall tones abound on sturdy, 5-7 ft. branching plants + Gypsy Charmer Sunflower Seeds: Tricolor pollen-free sunflowers + Cherry Rose Sunflower Seeds: Very early and quick to bloom with unusually stunning bicolor flowers + Harlequin Sunflower Seeds: Blazing bicolor flowers are superb cut + Sunfinity Hybrid Sunflower Seeds: Unparalleled bloom season length and quantity of 3-4 in. blooms + Helios Flame Sunflower Seeds: Showy flowers, long vase life + Sungold Sunflower Seeds: Large double mum-like blooms on sturdy 5 ft. plants + Firecracker Sunflower Seeds: Heavy flowering sunflower + Black Beauty Sunflower Seeds: Loads of pollen-free dark blooms + ProCut Plum Sunflower Seeds: Unique plum shade for bouquets + Solar Flash Sunflower Seeds: Compact 20 in. plants great for patios + Claret Sunflower Seeds: Dark velvety, pollen-free flowers + Little Becka Sunflower Seeds: Dwarf 2-3 ft. branching sunflowers + ProCut Bril\\xadliance Sunflower Seeds: Single head, pollen-free sunflower + Little Tiger Sunflower Seeds: Dwarf, early-blooming sunflower + Autumn Beauty Sunflower Seeds: Classic sunflower form in autumn shades + Mam\\xadmoth Rus\\xadsian Sunflower Seeds: Enormous 10 ft. sunflowers with huge foot-wide blooms + Amer\\xadican Giant Hybrid Sunflower Seeds: Our tallest sunflower, up to 16 ft. tall + Velvet Queen Sunflower Seeds: Velvety crimson petals and black hearts + ProCut Gold Lite Sunflower Seeds: Outstanding cut flowers bloom quickly on 5-6 ft. tall plants + ProCut Red Sunflower Seeds: First single-flowered red sunflower + The Joker Sunflower Seeds: Unusual showy double form + Red Wave Sunflower Seeds: Wavy, rich velvety petals + Orange Hobbit Sunflower Seeds: Large main bloom, many side shoots + Zohar Sunflower Seeds: Vigorous, early-blooming hybrid + Shock-O-Lat Sunflower Seeds: Elegant pollen-free deep chocolate sunflowers + Soraya Sunflower Seeds: Sturdy and prolific sunflowers + Sunrich Limon\\xadcello Summer Sunflower Seeds: Single-stem, long-lasting bicolor flowers + Sunrich Lime Sunflower Seeds: Long-lasting, pollen-free, densely petaled blooms + Pas\\xadtiche Sunflower Seeds: Excellent cut flowers are pollen-free Here\\'s the extracted information related to \"All colours of sunflowers\" in bullet format within 200 words: **Sunflower Varieties:** * Ruby red and cream bicolor flowers (4-5½ ft. plants) * Salt N\\' Roast Sunflower Seeds (hugely edible seeds and pollen for bees) * ProCut White Nite Sunflower Seeds (soft creamy white petals and dark chocolate centers) * SunFill Green Sunflower Seeds (entirely new sunflower for cut flower lovers) * Starburst Panache Sunflower Seeds (densely double, pollen-free orange blooms) * ProCut Horizon Sunflower Seeds (large, upward-facing flowers in rich golden orange) * Terracotta Sunflower Seeds (warm fall tones on sturdy, 5-7 ft. branching plants) * Gypsy Charmer Sunflower Seeds (tricolor pollen-free sunflowers) * Cherry Rose Sunflower Seeds (very early and quick to bloom, unusually stunning bicolor flowers) * Harlequin Sunflower Seeds (blazing bicolor flowers are superb cut) * Sunfinity Hybrid Sunflower Seeds (unparalleled bloom season length and quantity of 3-4 in. blooms) * Helios Flame Sunflower Seeds (showy flowers, long vase life) * Sungold Sunflower Seeds (large double mum-like blooms on sturdy 5 ft. plants) * Firecracker Sunflower Seeds (heavy flowering sunflower) * Black Beauty Sunflower Seeds (loads of pollen-free dark blooms) * ProCut Plum Sunflower Seeds (unique plum shade for bouquets) * Solar Flash Sunflower Seeds (compact 20 in. plants great for patios) * Claret Sunflower Seeds (dark velvety, pollen-free flowers) * Little Becka Sunflower Seeds (dwarf 2-3 ft. branching sunflowers) * ProCut Brilliance Sunflower Seeds (single head, pollen-free sunflower) * Little Tiger Sunflower Seeds (dwarf, early-blooming sunflower) * Autumn Beauty Sunflower Seeds (classic sunflower form in autumn shades) * Mammoth Russian Sunflower Seeds (enormous 10 ft. sunflowers with huge foot-wide blooms) * American Giant Hybrid Sunflower Seeds (our tallest sunflower, up to 16 ft. tall) * Velvet Queen Sunflower Seeds (velvety crimson petals and black hearts) * ProCut Gold Lite Sunflower Seeds (outstanding cut flowers bloom quickly) * ProCut Red Sunflower Seeds (first single-flowered red sunflower) * The Joker Sunflower Seeds (unusual showy double form) * Red Wave Sunflower Seeds (wavy, rich velvety petals) * Orange Hobbit Sunflower Seeds (large main bloom, many side shoots) * Zohar Sunflower Seeds (vigorous, early-blooming hybrid) * Shock-O-Lat Sunflower Seeds (elegant pollen-free deep chocolate sunflowers) * Soraya Sunflower Seeds (sturdy and prolific sunflowers) * Sunrich Limoncello Summer Sunflower Seeds (single-stem, long-lasting bicolor flowers) * Sunrich Lime Sunflower Seeds (long-lasting, pollen-free, densely petaled blooms) * Pas\\xadtiche Sunflower Seeds (excellent cut flowers are pollen-free) Here are the extracted and summarized information related to \"All colours of sunflowers\" in bullet format within 200 words: * **Sunflower Mixes:** + Shop All Single Variety Flower Mixes + All Single Variety Flower Mixes + Regional Wildflower Mixes + Regional Wildflower Mixes + Color Themed Flower Mixes + Color Themed Flower Mixes + Blue Flower Mixes + Green Flower Mixes + Orange Flower Mixes + Pink Flower Mixes + Purple Flower Mixes + Red Flower Mixes + Yellow Flower Mixes + White Flower Mixes + All Color Mixes * **Sunflower Varieties:** + Sunflower Mixes + Zinnia Flower Mix + California Poppy Mix + Coneflower Mix + Cosmos Flower Mix + Daisy Flower Mix + Lupine Flower Mix + Morning Glory Mix + Poppy Flower Mix + Sunflower Mixes * **Sunflower Characteristics:** + Annual Flowers + Perennial Flowers + Ornamental Grasses + Rare & Unusual Flowers + New Flowers + Homegrown Food + Shop All Vegetables + Shop All Herbs + Shop All Fruit + Shop All Microgreens * **Sunflower Care:** + Shop by Solution + Seasonal + Cool Season Vegetables + New for Fall 2024 + Fall Bulbs on Sale! + Gift Certificates + Seed Collections + Garden Themes + Cut Flower Garden + Container Garden + Deer Resistant Garden + Shaded Area Garden Here are the extracted and summarized information related to \"All colours of sunflowers\" in bullet format within 200 words: * **Sunflower Mixes:** + Zinnia Flower Mix + Sunflower Mixes + All Single Variety Flower Mixes * **Single Variety Flower Mixes:** + Sunflower Mixes + Zinnia Flower Mix + All Single Variety Flower Mixes * **Regional Wildflower Mixes:** + Regional Wildflower Mixes + Pacific Northwest Mix + All Regional Mixes * **Color Themed Flower Mixes:** + Color Themed Flower Mixes + Yellow Flower Mixes + All Color Mixes * **Sunflower Varieties:** + Sunflower Mixes + Zinnia Flower Mix + Sunflower varieties are not explicitly mentioned, but they can be found in the \"All Flower Seeds\" section. Note: There is no specific information about \"All colours of sunflowers\" in the provided text. However, sunflowers are mentioned in the context of mixtures and varieties. Unfortunately, there is no specific information about \"All colours of sunflowers\" in the provided text. However, I can provide you with some information about sunflowers that might be relevant: * Sunflowers are not explicitly mentioned in the text, but there is a mention of \"Sunflower Mixes\" under the \"WildflowerSeed Mixes\" category. * Under the \"Single Variety Flower Mixes\" category, there is a mention of \"Sunflower Mixes\" but no specific information about different colors. * However, under the \"Color Themed Flower Mixes\" category, there is a mention of \"Yellow Flower Mixes\" which might be relevant to sunflowers, as they are typically yellow. Here is a summary of the information in bullet format: * Sunflowers are not explicitly mentioned in the text. * There is a mention of \"Sunflower Mixes\" under the \"WildflowerSeed Mixes\" category. * There is a mention of \"Sunflower Mixes\" under the \"Single Variety Flower Mixes\" category, but no specific information about different colors. * There is a mention of \"Yellow Flower Mixes\" under the \"Color Themed Flower Mixes\" category, which might be relevant to sunflowers. Here are the extracted and summarized information related to \"All colours of sunflowers\" in bullet format within 200 words: * **Varieties of Sunflowers:** + Mammoth Grey-Stripe: A favorite variety for eating and growing, perfect for a kid\\'s garden + Sunny: A mix of classic yellow, exotic burgundy, and other colors + Autumn Beauty: Bicolor and tricolor blooms in shades of fallen leaves + Ring of Fire: A sought-after heirloom featuring branching bicolored blooms + Mexican Sunflower: Prolific daisy-shaped blooms in a rich rusty red + ProCut Plum: Exclusive color combination + Maximilian: A perennial heirloom cultivar with hardy blooms + Lemon Queen: Showstopping as cut flowers and also great for borders + ProCut White Nite: Uncommon variety with white petals + Italian White: Rare, ivory-petaled blooms + Chocolate: Rich, mahogany blooms (out of stock) + Earthwalker: Glorious copper-colored flowers + Tall Teddy Bear: Fully feathered golden blooms * **Organic Sunflower Varieties:** + Mammoth Grey-Stripe: Certified organic, perfect for snacking + Autumn Beauty: Certified organic, great for autumnal bouquets * **Dwarf Sunflower Variety:** + Topolino: Branching, dainty blooms ideal for containers and gift giving (out of stock) Here\\'s a summary of the sunflower seeds information in bullet format: **Sunflower Seeds Information:** * **Mammoth Grey-Stripe:** + Regular price: As Low As $4.49 + Sale price: As Low As $4.49 + Unit price: /per * **Sunny - Sunflower Seed Mix:** + Regular price: As Low As $13.69 + Sale price: As Low As $13.69 + Unit price: /per * **Autumn Beauty:** + Regular price: As Low As $4.49 + Sale price: As Low As $4.49 + Unit price: /per * **Ring of Fire:** + Regular price: As Low As $5.79 + Sale price: As Low As $5.79 + Unit price: /per * **Mexican Sunflower Seeds - Torch:** + Regular price: As Low As $4.79 + Sale price: As Low As $4.79 + Unit price: /per * **ProCut Plum:** + Regular price: $6.89 + Sale price: $6.89 + Unit price: /per * **ProCut White Nite:** + Regular price: $6.89 + Sale price: $6.89 + Unit price: /per * **Italian White:** + Regular price: As Low As $4.79 + Sale price: As Low As $4.79 + Unit price: /per * **Chocolate:** + Regular price: As Low As $4.79 + Sale price: As Low As $4.79 + Unit price: /per (Out of Stock) * **Earthwalker:** + Regular price: As Low As $4.79 + Sale price: As Low As $4.79 + Unit price: /per * **Tall Teddy Bear:** + Regular price: As Low As $4.49 + Sale price: As Low As $4.49 + Unit price: /per * **Organic Mammoth Grey-Stripe:** + Regular price: As Low As $6.29 + Sale price: As Low As $6.29 + Unit price: /per * **Organic Autumn Beauty:** + Regular price: As Low As $6.29 + Sale price: As Low As $6.29 + Unit price: /per Here are the extracted and summarized information related to \"All colours of sunflowers\" in bullet format within 200 words: * **Varieties of Sunflowers:** * ProCut Plum Exclusive color combination * ProCut White Nite (white petals) * Lemon Queen (yellow petals) * Italian White (ivory-petaled blooms) * Chocolate (mahogany blooms) * Earthwalker (copper-colored flowers) * Tall Teddy Bear (fully feathered golden blooms) * Mammoth Grey-Stripe (organic, grey-striped blooms) * Autumn Beauty (organic, autumnal-colored blooms) * Topolino (dwarf, branching, dainty blooms) * **Colors:** * Yellow (Lemon Queen) * White (ProCut White Nite, Italian White) * Ivory (Italian White) * Mahogany (Chocolate) * Copper (Earthwalker) * Golden (Tall Teddy Bear) * Grey (Mammoth Grey-Stripe) * Autumnal (Autumn Beauty) * Plum (ProCut Plum Exclusive color combination) * **Organic Varieties:** * Mammoth Grey-Stripe * Autumn Beauty Here\\'s a summary of the information related to sunflowers in bullet format: **Types of Sunflowers:** * 63 sunflower seed varieties * Varieties for every blooming season * A single sunflower can contain as many as 2,000 seeds * Beautiful and edible flower **Colors of Sunflowers:** * No specific information is provided about different colors of sunflowers in the given text. **Growing Sunflowers:** * Plant seeds in late spring or early summer * Sunflowers prefer loose, well-drained soil and 6-8 hours of full sunlight each day * Succession planting ensures new plants are always blooming * Water established sunflower plants heavily once a week * Taller plants may require supports to stay upright **Harvesting Sunflowers:** * Cut sunflowers for arrangements as soon as blossoms have fully opened * Allow sunflowers to remain on the stalk until petals have dropped off and seed head has dried completely * Seeds can be easily removed by hand or complete seed heads can be tied to fences and posts or left in place as winter forage for birds and squirrels.'"
      ]
     },
     "execution_count": 25,
     "metadata": {},
     "output_type": "execute_result"
    }
   ],
   "source": [
    "x[0]"
   ]
  },
  {
   "cell_type": "code",
   "execution_count": null,
   "metadata": {},
   "outputs": [],
   "source": []
  }
 ],
 "metadata": {
  "kernelspec": {
   "display_name": "Python 3",
   "language": "python",
   "name": "python3"
  },
  "language_info": {
   "codemirror_mode": {
    "name": "ipython",
    "version": 3
   },
   "file_extension": ".py",
   "mimetype": "text/x-python",
   "name": "python",
   "nbconvert_exporter": "python",
   "pygments_lexer": "ipython3",
   "version": "3.11.10"
  }
 },
 "nbformat": 4,
 "nbformat_minor": 2
}
